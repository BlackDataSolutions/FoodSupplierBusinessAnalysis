{
 "cells": [
  {
   "cell_type": "markdown",
   "metadata": {},
   "source": [
    "## Final Project Submission\n",
    "* Student name: Pedro Jofre Lora\n",
    "* Student pace: self paced\n",
    "* Scheduled project review date/time: \n",
    "* Instructor name: Eli Thomas\n",
    "* Blog post URL: "
   ]
  },
  {
   "cell_type": "markdown",
   "metadata": {},
   "source": [
    "### The Deliverables\n",
    "The goal of your project is to query the database to get the data needed to perform a statistical analysis. In this statistical analysis, you'll need to perform a hypothesis test (or perhaps several) to answer the following question:\n",
    "\n",
    "Do discounts have a statistically significant effect on the number of products customers order? If so, at what level(s) of discount?\n",
    "\n",
    "In addition to answering this question with a hypothesis test, you will also need to come up with at least 3 other hypotheses to test on your own. These can by anything that you think could be imporant information for the company.\n",
    "\n",
    "For this hypothesis, be sure to specify both the null hypothesis and the alternative hypothesis for your question. You should also specify if this is one-tail or a two-tail test"
   ]
  },
  {
   "cell_type": "markdown",
   "metadata": {},
   "source": [
    "# Making recommendations to the Northwind Trading Company to improve performance based on hypothesis testing using frequentist and bayesian methods. \n",
    "### Table of Contents\n",
    "1. [Introduction](#1) <br>\n",
    "2. [Previewing Data](#2) <br>\n",
    "3. [Forming Questions for Analysis](#3) <br>\n",
    "4. [Modeling Data](#4) <br>\n",
    "5. [Interpreting Data](#5)"
   ]
  },
  {
   "cell_type": "markdown",
   "metadata": {},
   "source": [
    "<a id=\"1\"></a>\n",
    "## 1. Introduction"
   ]
  },
  {
   "cell_type": "markdown",
   "metadata": {},
   "source": [
    "<a id=\"2\"></a>\n",
    "## 2. Previewing Data\n",
    "Given that Northwind Trading Company is a fictitious entity, I need to look at the example data that is stored in the database in order to orient myself and begin to ask meaningful questions. I will look at the first 10 or so entries of every table in the database without being selective of the data. The function will also let me look at some of the metadata and the properties of the dataframe."
   ]
  },
  {
   "cell_type": "code",
   "execution_count": 21,
   "metadata": {},
   "outputs": [
    {
     "data": {
      "text/html": [
       "<script>requirejs.config({paths: { 'plotly': ['https://cdn.plot.ly/plotly-latest.min']},});if(!window.Plotly) {{require(['plotly'],function(plotly) {window.Plotly=plotly;});}}</script>"
      ],
      "text/vnd.plotly.v1+html": [
       "<script>requirejs.config({paths: { 'plotly': ['https://cdn.plot.ly/plotly-latest.min']},});if(!window.Plotly) {{require(['plotly'],function(plotly) {window.Plotly=plotly;});}}</script>"
      ]
     },
     "metadata": {},
     "output_type": "display_data"
    }
   ],
   "source": [
    "import pandas as pd\n",
    "import sqlite3 as sql\n",
    "import numpy as np\n",
    "from plotly.offline import download_plotlyjs, init_notebook_mode, plot, iplot\n",
    "init_notebook_mode(connected=True)\n",
    "from ipywidgets import interact, interactive\n",
    "# I'll learn to use plotly in this project since there's a lot of talk about how much more powerful it is than matplotlib."
   ]
  },
  {
   "cell_type": "code",
   "execution_count": 69,
   "metadata": {},
   "outputs": [],
   "source": [
    "# Open a connection to the sql server. I'll use sqlite3 for now, but I may switch to another sql module later if I need it.\n",
    "connect = sql.connect('Northwind_small.sqlite')\n",
    "c = connect.cursor()\n",
    "# Get table names\n",
    "raw = c.execute(\"\"\"select name from sqlite_master where type = 'table'\"\"\").fetchall()\n",
    "tables = []\n",
    "for table in raw:\n",
    "    tables.append(table[0])"
   ]
  },
  {
   "cell_type": "code",
   "execution_count": 72,
   "metadata": {
    "scrolled": false
   },
   "outputs": [
    {
     "data": {
      "application/vnd.jupyter.widget-view+json": {
       "model_id": "2636c986676d4eb187c92a7cc18228c2",
       "version_major": 2,
       "version_minor": 0
      },
      "text/plain": [
       "interactive(children=(Dropdown(description='Table', options=('Employee', 'Category', 'Customer', 'Shipper', 'S…"
      ]
     },
     "metadata": {},
     "output_type": "display_data"
    }
   ],
   "source": [
    "@interact\n",
    "def table_preview(Table = tables, Preview = ['Head','Description', 'Shape','Unique','Types']):\n",
    "    statement = \"SELECT * FROM [\" + Table + \"]\"\n",
    "    df = pd.read_sql_query(statement, connect)\n",
    "    preview_return = {'Head':df.head(10), 'Description':df.describe(), \n",
    "                      'Shape':df.shape, 'Unique':df.nunique(axis = 0), 'Types':df.dtypes}\n",
    "    out = preview_return[Preview]\n",
    "    return out"
   ]
  },
  {
   "cell_type": "markdown",
   "metadata": {},
   "source": [
    "The following is an overview of the available, pertinent data:\n",
    "*  **Employees**\n",
    "    - There are 9 employees. 5 are in the USA, and 4 are in the UK\n",
    "    - The notes include information about education\n",
    "    - The hire date is likely incorrect, since the data is in the future (2024) and the order dates are in 2012.\n",
    "*  **Categories**\n",
    "    - Northwind Trading Company trades in food products\n",
    "    - There are 8 categories of food products\n",
    "*  **Customers**\n",
    "    - There are 91 customers\n",
    "    - Contact Title may be interesting to explore (e.g. President, Sales Rep). There are 12 unique values\n",
    "    - Region and Country may also be interesting to explore. There are 9 regions and 21 countries\n",
    "*  **Shipper**\n",
    "    - There are three shippers\n",
    "*  **Suppliers**\n",
    "    - There are 29 suppliers\n",
    "    - The suppliers are scattered globally in 11 distinct regions\n",
    "*  **Orders**\n",
    "    - There are 830 orders\n",
    "    - Only 89 customers have made purchases\n",
    "    - There are only 387 confirmed ship dates. This is concerning...\n",
    "*  **Products**\n",
    "    - There are 77 unique products, 2 of which are discontinued\n",
    "    - 62 products have unit prices\n",
    "*  **Order Details**\n",
    "    - There are a total of 2155 unique product orders. These represent the products that were ordered in the 830 customer orders.\n",
    "    - The discount information resides in the Order Details\n",
    "    - There are more Unit Prices than unique products, which is a signal that either 1) customers receive different unit prices, or 2) Unit Prices include the applied discount\n",
    "*  **Territories and Regions**\n",
    "    - There are 4 nondescript territories, and 52 unique regions.\n",
    "    - Only 49 territories are assigned to employees\n",
    "*  **There Are No Customer Demographic Data**\n",
    "    \n"
   ]
  },
  {
   "cell_type": "markdown",
   "metadata": {},
   "source": [
    "<a id=\"3\"></a>\n",
    "## 3. Forming Questions for Analysis"
   ]
  },
  {
   "cell_type": "markdown",
   "metadata": {},
   "source": [
    "Let's assume that we're consultants tasked with improving the performance of the Northwind Trading Company by giving broad recommendations about new procedures to implement. These procedures could involve anything from the rate and frequency of discounts, to the distribution of employees to customers. In order to give recommendations, we should look to determine what differences, if any, exist between a set of conditions. We can, and should, try to control for other factors whenever possible."
   ]
  },
  {
   "cell_type": "markdown",
   "metadata": {},
   "source": [
    "It is helpful to identify the metrics by which to measure success in order to narrow the field of questions that can be asked. The important metrics of success, or performance, are the following listed from most to least important:\n",
    "1. Gross Profit (Greater is better)\n",
    "2. Gross Profit Margin (Greater is better)\n",
    "3. Order Regularity as measured by variability (Lesser is better)\n",
    "4. Order Volume (Greater is better)\n",
    "5. Customer Satisfaction as measured by a synthetic analog (e.g. shipping times) (Greater is Better)\n",
    "6. Employee Productivity as measured by a synthetic analog (e.g. profit normalized by number of assigned customers) (Greater is Better)"
   ]
  },
  {
   "cell_type": "markdown",
   "metadata": {},
   "source": [
    "We must assume that the order of importance listed above aligns with the Northwind Trading Company. In reality, the metrics of success would likely be codeveloped between the client and the consultant to ensure that the expectations about the results are congruent between both parties. The consultant brings information into the equation that the client may be blind to (e.g. knowledge from other industries, best practices, etc), just as the client brings information into the equation that the consultant simply cannot know (e.g. the values of the business, the vision, etc). The above list represents a likely way that a corporate entity would prioritize success.\n",
    "\n",
    "Having defined the metrics that can be measured, it is now possible to begin to ask questions that will likely modify those metrics. Some questions are listed below in association with their metric. This is not an exhaustive list, and again some of these questions would be coconstructed with the client:\n",
    "\n",
    "1. Gross Profit\n",
    "    - Do discounts improve the profit of an order? \n",
    "    - Does any one category produce more profit than every other on a per order basis? \n",
    "    - Does any one employee produce more profit than every other on a per order basis?\n",
    "    - Are there month(s) of the year that produce more profit?\n",
    "    - Does a customer with a higher corporate rank (e.g. President vs Associate) produce more profit?\n",
    "2. Gross Profit Margin\n",
    "    - Does any one category produce a higher profit margin than every other after accounting for order quantities?\n",
    "    - Does any one supplier have a higher profit margin than every other supplier?\n",
    "3. Order Regularity\n",
    "    - Does any one employee have more order regularity than every other employee?\n",
    "    - Is any one product category more regular than every other?\n",
    "    - Does any one region order with more regularity than every other region?\n",
    "4. Order Volume\n",
    "    - Do discounts increase an order volume?\n",
    "        - Are discounts more successful in certain regions at increasing order volume?\n",
    "    - Does any one customer have a higher order volume more than every other?\n",
    "    - Is any one supplier's foods favored?\n",
    "5. Customer Satisfaction\n",
    "    - Does customer satisfaction impact gross profits?\n",
    "6. Employee Productivity\n",
    "    - Does any one employee produce more orders after normalizing for their number of customers?\n",
    "   "
   ]
  },
  {
   "cell_type": "markdown",
   "metadata": {},
   "source": [
    "Each of the above questions can be followed up by asking, \"if so, to what extent is there a difference?\" It is important to determine that there is, in fact, a statistical difference in the first place.\n",
    "\n",
    "For the sake of this notebook, I will attend to three of the above questions to show the kind of work that is necessary in order to perform the full analysis. One of the questsions will be answered using a frequentist approach (two-sample t-test of means), while the other two questions will be answered using a bayesian approach. "
   ]
  },
  {
   "cell_type": "code",
   "execution_count": null,
   "metadata": {},
   "outputs": [],
   "source": []
  }
 ],
 "metadata": {
  "kernelspec": {
   "display_name": "learn-env",
   "language": "python",
   "name": "learn-env"
  },
  "language_info": {
   "codemirror_mode": {
    "name": "ipython",
    "version": 3
   },
   "file_extension": ".py",
   "mimetype": "text/x-python",
   "name": "python",
   "nbconvert_exporter": "python",
   "pygments_lexer": "ipython3",
   "version": "3.6.6"
  }
 },
 "nbformat": 4,
 "nbformat_minor": 2
}
